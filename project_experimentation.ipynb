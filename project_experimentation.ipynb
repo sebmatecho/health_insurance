{
 "cells": [
  {
   "cell_type": "code",
   "execution_count": 1,
   "id": "4364dfff",
   "metadata": {
    "ExecuteTime": {
     "end_time": "2023-05-02T09:58:27.583232Z",
     "start_time": "2023-05-02T09:58:23.787234Z"
    }
   },
   "outputs": [],
   "source": [
    "from sqlalchemy import create_engine, text\n",
    "import pandas as pd\n",
    "import requests\n",
    "def getting_data_from_AWS(query: str, \n",
    "                          host: str, \n",
    "                          port:int, \n",
    "                          database: str, \n",
    "                          user: str, \n",
    "                          password: str): \n",
    "    \"\"\"Downloads dataframe based on query pulling data from AWS RDS instance. \n",
    "\n",
    "    Args:\n",
    "        query (str): SQL query to retrieve data \n",
    "        host (str): AWS host string\n",
    "        port (str): AWS port \n",
    "        database (str): AWS database name\n",
    "        user (str): AWS user\n",
    "        password (str): AWS password\n",
    "    \n",
    "    Returns:\n",
    "        pd.DataFrame with the ouput of query\n",
    "    \n",
    "    Example usage:\n",
    "        getting_data_from_AWS(query = \"SELECT * FROM TABLE\" (with triple \"s)\n",
    "                              host = 'XXX.XXX.XXX.rds.amazonaws.com', \n",
    "                              port = 5432, \n",
    "                              database = 'postgres', \n",
    "                              user = 'super_safe_user', \n",
    "                              password = 'super_safe_pass'):\n",
    "    \"\"\"\n",
    "    # Creating connection\n",
    "    conn_db = create_engine(f'postgresql://{user}:{password}@{host}:{port}/{database}',\n",
    "                            pool_pre_ping=True)\n",
    "\n",
    "    # Running query and importing it \n",
    "    with conn_db.begin() as conn:\n",
    "        df = pd.read_sql(sql=text(query), \n",
    "                         con=conn)\n",
    "\n",
    "\n",
    "    return df;"
   ]
  },
  {
   "cell_type": "code",
   "execution_count": 2,
   "id": "2960c952",
   "metadata": {
    "ExecuteTime": {
     "end_time": "2023-05-02T09:58:56.974226Z",
     "start_time": "2023-05-02T09:58:27.874230Z"
    }
   },
   "outputs": [],
   "source": [
    "host = \"insuranceproject.ce08lquzezfq.ca-central-1.rds.amazonaws.com\"\n",
    "port = 5432\n",
    "database = \"postgres\"\n",
    "user = \"sebmatecho\"\n",
    "password = \"bandadatosa\"\n",
    "\n",
    "query = \"\"\"\n",
    "   SELECT * FROM insurance\n",
    "\"\"\"\n",
    "\n",
    "df_raw = getting_data_from_AWS(query = query,\n",
    "                               host = host,  \n",
    "                               port = port,  \n",
    "                               database = database, \n",
    "                               user = user,\n",
    "                               password = password)\n"
   ]
  },
  {
   "cell_type": "code",
   "execution_count": 231,
   "id": "ef5f34c1",
   "metadata": {
    "ExecuteTime": {
     "end_time": "2023-04-24T23:23:34.738407Z",
     "start_time": "2023-04-24T23:23:34.703365Z"
    }
   },
   "outputs": [
    {
     "data": {
      "text/plain": [
       "gender                   object\n",
       "age                     float64\n",
       "driving_license         float64\n",
       "region_code             float64\n",
       "previously_insured      float64\n",
       "vehicle_age              object\n",
       "vehicle_damage           object\n",
       "annual_premium          float64\n",
       "policy_sales_channel    float64\n",
       "vintage                 float64\n",
       "response                float64\n",
       "dtype: object"
      ]
     },
     "execution_count": 231,
     "metadata": {},
     "output_type": "execute_result"
    }
   ],
   "source": [
    "df_raw.dtypes"
   ]
  },
  {
   "cell_type": "code",
   "execution_count": 206,
   "id": "f613b50b",
   "metadata": {
    "ExecuteTime": {
     "end_time": "2023-04-28T16:00:35.539805Z",
     "start_time": "2023-04-28T16:00:35.475813Z"
    }
   },
   "outputs": [],
   "source": [
    "import pandas as pd \n",
    "import pickle\n",
    "import os\n",
    "from  pathlib import Path\n",
    "import pandas as pd\n",
    "from pathlib import Path\n",
    "import pickle \n",
    "import os\n",
    "\n",
    "class HealthInsurance(): \n",
    "    def __init__(self)->None:\n",
    "        base_path = Path.cwd()\n",
    "        self.home = base_path/'parameters'\n",
    "        self.age_transform = pickle.load(open(os.path.join(self.home,'age_transform.pkl'),'rb'))\n",
    "        self.annual_premium_transform = pickle.load(open(os.path.join(self.home,'annual_premium_transform.pkl'),'rb'))\n",
    "        self.gender_transform = pickle.load(open(os.path.join(self.home,'gender_transform.pkl'),'rb'))\n",
    "        self.policy_sales_channel_transform = pickle.load(open(os.path.join(self.home,'policy_sales_channel_transform.pkl'),'rb'))\n",
    "        self.region_code_transform = pickle.load(open(os.path.join(self.home,'region_code_transform.pkl'),'rb'))\n",
    "        self.vintage_transform = pickle.load(open(os.path.join(self.home,'vintage_transform.pkl'),'rb'))\n",
    "        \n",
    "    def data_cleaning(self,df1): \n",
    "                \n",
    "        df1.columns = ['gender', 'age', 'driving_license', 'region_code', 'previously_insured',\n",
    "       'vehicle_age', 'vehicle_damage', 'annual_premium','policy_sales_channel', 'vintage']\n",
    "        \n",
    "        df1['age'] = df1['age'].astype(int)\n",
    "        df1['driving_license'] = df1['driving_license'].astype(int)\n",
    "        df1['region_code'] = df1['region_code'].astype(int)\n",
    "        df1['previously_insured'] = df1['previously_insured'].astype(int)\n",
    "        df1['vintage'] = df1['vintage'].astype(int)\n",
    "        \n",
    "        return df1\n",
    "    \n",
    "    def feature_engineering(self,df2): \n",
    "        df2['vehicle_damage'] = df2['vehicle_damage'].apply( lambda x: 1 if x == 'Yes' else 0 )\n",
    "        df2['vehicle_age'] =  df2['vehicle_age'].apply( lambda x: 'over_2_years' if x == '> 2 Years' else 'between_1_2_year' if x == '1-2 Year' else 'below_1_year' )\n",
    "        return df2\n",
    "    \n",
    "    def data_preparation(self, df3): \n",
    "        df3['annual_premium'] = self.annual_premium_transform.transform( df3[['annual_premium']].values )\n",
    "        df3['age'] = self.age_transform.transform( df3[['age']].values )\n",
    "        df3['vintage'] = self.vintage_transform.transform( df3[['vintage']].values )\n",
    "        df3['gender'] = df3['gender'].map( self.gender_transform )\n",
    "        df3['region_code'] = df3['region_code'].map( self.region_code_transform )\n",
    "        df3 = pd.get_dummies( df3, prefix='vehicle_age', columns=['vehicle_age'] )\n",
    "        df3['policy_sales_channel'] = df3['policy_sales_channel'].map( self.policy_sales_channel_transform )\n",
    "        \n",
    "        cols_selected = ['annual_premium', 'vintage', 'age', 'region_code', 'vehicle_damage', 'previously_insured',\n",
    "                 'policy_sales_channel']\n",
    "    \n",
    "        return df3[cols_selected]\n",
    "    \n",
    "    def prediction(self,model, df4, df5): \n",
    "        pred = model.predict_proba(df4)\n",
    "        df5['prediction'] = pred[:, 0]\n",
    "        return df5\n"
   ]
  },
  {
   "cell_type": "code",
   "execution_count": 207,
   "id": "664c2e12",
   "metadata": {
    "ExecuteTime": {
     "end_time": "2023-04-28T16:00:36.390804Z",
     "start_time": "2023-04-28T16:00:36.348804Z"
    }
   },
   "outputs": [
    {
     "name": "stderr",
     "output_type": "stream",
     "text": [
      "C:\\Users\\Windows\\anaconda3\\lib\\site-packages\\sklearn\\base.py:329: UserWarning: Trying to unpickle estimator LogisticRegression from version 1.2.2 when using version 1.1.1. This might lead to breaking code or invalid results. Use at your own risk. For more info please refer to:\n",
      "https://scikit-learn.org/stable/model_persistence.html#security-maintainability-limitations\n",
      "  warnings.warn(\n"
     ]
    }
   ],
   "source": [
    "home_path = Path.cwd()\n",
    "# home_path = Path('C:/Users/Windows/Desktop/Repos/insurance_prediction/')\n",
    "model_path = home_path /'models'/'models'/ 'logistic_regression.pkl'\n",
    "model = joblib.load(model_path)\n"
   ]
  },
  {
   "cell_type": "code",
   "execution_count": 208,
   "id": "22a7e989",
   "metadata": {
    "ExecuteTime": {
     "end_time": "2023-04-28T16:00:39.030310Z",
     "start_time": "2023-04-28T16:00:38.774290Z"
    },
    "scrolled": true
   },
   "outputs": [
    {
     "name": "stderr",
     "output_type": "stream",
     "text": [
      "C:\\Users\\Windows\\anaconda3\\lib\\site-packages\\sklearn\\base.py:329: UserWarning: Trying to unpickle estimator MinMaxScaler from version 1.2.2 when using version 1.1.1. This might lead to breaking code or invalid results. Use at your own risk. For more info please refer to:\n",
      "https://scikit-learn.org/stable/model_persistence.html#security-maintainability-limitations\n",
      "  warnings.warn(\n",
      "C:\\Users\\Windows\\anaconda3\\lib\\site-packages\\sklearn\\base.py:329: UserWarning: Trying to unpickle estimator StandardScaler from version 1.2.2 when using version 1.1.1. This might lead to breaking code or invalid results. Use at your own risk. For more info please refer to:\n",
      "https://scikit-learn.org/stable/model_persistence.html#security-maintainability-limitations\n",
      "  warnings.warn(\n"
     ]
    },
    {
     "data": {
      "text/html": [
       "<div>\n",
       "<style scoped>\n",
       "    .dataframe tbody tr th:only-of-type {\n",
       "        vertical-align: middle;\n",
       "    }\n",
       "\n",
       "    .dataframe tbody tr th {\n",
       "        vertical-align: top;\n",
       "    }\n",
       "\n",
       "    .dataframe thead th {\n",
       "        text-align: right;\n",
       "    }\n",
       "</style>\n",
       "<table border=\"1\" class=\"dataframe\">\n",
       "  <thead>\n",
       "    <tr style=\"text-align: right;\">\n",
       "      <th></th>\n",
       "      <th>gender</th>\n",
       "      <th>age</th>\n",
       "      <th>driving_license</th>\n",
       "      <th>region_code</th>\n",
       "      <th>previously_insured</th>\n",
       "      <th>vehicle_age</th>\n",
       "      <th>vehicle_damage</th>\n",
       "      <th>annual_premium</th>\n",
       "      <th>policy_sales_channel</th>\n",
       "      <th>vintage</th>\n",
       "      <th>prediction</th>\n",
       "    </tr>\n",
       "  </thead>\n",
       "  <tbody>\n",
       "    <tr>\n",
       "      <th>418628</th>\n",
       "      <td>Female</td>\n",
       "      <td>21.0</td>\n",
       "      <td>1.0</td>\n",
       "      <td>28.0</td>\n",
       "      <td>0.0</td>\n",
       "      <td>&lt; 1 Year</td>\n",
       "      <td>Yes</td>\n",
       "      <td>29005.0</td>\n",
       "      <td>160.0</td>\n",
       "      <td>63.0</td>\n",
       "      <td>0.667582</td>\n",
       "    </tr>\n",
       "    <tr>\n",
       "      <th>385400</th>\n",
       "      <td>Female</td>\n",
       "      <td>48.0</td>\n",
       "      <td>1.0</td>\n",
       "      <td>17.0</td>\n",
       "      <td>0.0</td>\n",
       "      <td>1-2 Year</td>\n",
       "      <td>Yes</td>\n",
       "      <td>28855.0</td>\n",
       "      <td>4.0</td>\n",
       "      <td>280.0</td>\n",
       "      <td>0.783452</td>\n",
       "    </tr>\n",
       "  </tbody>\n",
       "</table>\n",
       "</div>"
      ],
      "text/plain": [
       "        gender   age  driving_license  region_code  previously_insured  \\\n",
       "418628  Female  21.0              1.0         28.0                 0.0   \n",
       "385400  Female  48.0              1.0         17.0                 0.0   \n",
       "\n",
       "       vehicle_age vehicle_damage  annual_premium  policy_sales_channel  \\\n",
       "418628    < 1 Year            Yes         29005.0                 160.0   \n",
       "385400    1-2 Year            Yes         28855.0                   4.0   \n",
       "\n",
       "        vintage  prediction  \n",
       "418628     63.0    0.667582  \n",
       "385400    280.0    0.783452  "
      ]
     },
     "execution_count": 208,
     "metadata": {},
     "output_type": "execute_result"
    }
   ],
   "source": [
    "df_test = df_raw.sample(2,random_state=42).drop('response', axis =1)\n",
    "df_final = df_test.copy()\n",
    "testing_class = HealthInsurance()\n",
    "# testing_class\n",
    "df1 = testing_class.data_cleaning(df_test)\n",
    "# df1\n",
    "df2 = testing_class.feature_engineering(df1)\n",
    "# df2\n",
    "df3 = testing_class.data_preparation(df2)\n",
    "# df3\n",
    "df4 = testing_class.prediction(model,df3,df_final)\n",
    "df4\n"
   ]
  },
  {
   "cell_type": "code",
   "execution_count": null,
   "id": "125d4fbb",
   "metadata": {},
   "outputs": [],
   "source": []
  },
  {
   "cell_type": "code",
   "execution_count": 4,
   "id": "ececc461",
   "metadata": {
    "ExecuteTime": {
     "end_time": "2023-05-02T09:59:07.937287Z",
     "start_time": "2023-05-02T09:59:07.417292Z"
    }
   },
   "outputs": [
    {
     "name": "stdout",
     "output_type": "stream",
     "text": [
      "[Info] Status Code 200\n"
     ]
    },
    {
     "data": {
      "text/html": [
       "<div>\n",
       "<style scoped>\n",
       "    .dataframe tbody tr th:only-of-type {\n",
       "        vertical-align: middle;\n",
       "    }\n",
       "\n",
       "    .dataframe tbody tr th {\n",
       "        vertical-align: top;\n",
       "    }\n",
       "\n",
       "    .dataframe thead th {\n",
       "        text-align: right;\n",
       "    }\n",
       "</style>\n",
       "<table border=\"1\" class=\"dataframe\">\n",
       "  <thead>\n",
       "    <tr style=\"text-align: right;\">\n",
       "      <th></th>\n",
       "      <th>gender</th>\n",
       "      <th>age</th>\n",
       "      <th>driving_license</th>\n",
       "      <th>region_code</th>\n",
       "      <th>previously_insured</th>\n",
       "      <th>vehicle_age</th>\n",
       "      <th>vehicle_damage</th>\n",
       "      <th>annual_premium</th>\n",
       "      <th>policy_sales_channel</th>\n",
       "      <th>vintage</th>\n",
       "      <th>prediction</th>\n",
       "    </tr>\n",
       "  </thead>\n",
       "  <tbody>\n",
       "    <tr>\n",
       "      <th>0</th>\n",
       "      <td>Male</td>\n",
       "      <td>21</td>\n",
       "      <td>1</td>\n",
       "      <td>36</td>\n",
       "      <td>0</td>\n",
       "      <td>&lt; 1 Year</td>\n",
       "      <td>No</td>\n",
       "      <td>40371</td>\n",
       "      <td>152</td>\n",
       "      <td>48</td>\n",
       "      <td>0.992662</td>\n",
       "    </tr>\n",
       "    <tr>\n",
       "      <th>1</th>\n",
       "      <td>Male</td>\n",
       "      <td>23</td>\n",
       "      <td>1</td>\n",
       "      <td>3</td>\n",
       "      <td>1</td>\n",
       "      <td>&lt; 1 Year</td>\n",
       "      <td>No</td>\n",
       "      <td>29535</td>\n",
       "      <td>152</td>\n",
       "      <td>198</td>\n",
       "      <td>0.999629</td>\n",
       "    </tr>\n",
       "    <tr>\n",
       "      <th>2</th>\n",
       "      <td>Male</td>\n",
       "      <td>67</td>\n",
       "      <td>1</td>\n",
       "      <td>28</td>\n",
       "      <td>0</td>\n",
       "      <td>1-2 Year</td>\n",
       "      <td>Yes</td>\n",
       "      <td>30569</td>\n",
       "      <td>26</td>\n",
       "      <td>283</td>\n",
       "      <td>0.916689</td>\n",
       "    </tr>\n",
       "    <tr>\n",
       "      <th>3</th>\n",
       "      <td>Male</td>\n",
       "      <td>41</td>\n",
       "      <td>1</td>\n",
       "      <td>8</td>\n",
       "      <td>1</td>\n",
       "      <td>1-2 Year</td>\n",
       "      <td>No</td>\n",
       "      <td>47916</td>\n",
       "      <td>124</td>\n",
       "      <td>92</td>\n",
       "      <td>0.999717</td>\n",
       "    </tr>\n",
       "    <tr>\n",
       "      <th>4</th>\n",
       "      <td>Male</td>\n",
       "      <td>44</td>\n",
       "      <td>1</td>\n",
       "      <td>6</td>\n",
       "      <td>0</td>\n",
       "      <td>1-2 Year</td>\n",
       "      <td>Yes</td>\n",
       "      <td>2630</td>\n",
       "      <td>124</td>\n",
       "      <td>18</td>\n",
       "      <td>0.768253</td>\n",
       "    </tr>\n",
       "    <tr>\n",
       "      <th>5</th>\n",
       "      <td>Male</td>\n",
       "      <td>54</td>\n",
       "      <td>1</td>\n",
       "      <td>28</td>\n",
       "      <td>0</td>\n",
       "      <td>1-2 Year</td>\n",
       "      <td>Yes</td>\n",
       "      <td>39127</td>\n",
       "      <td>26</td>\n",
       "      <td>31</td>\n",
       "      <td>0.387894</td>\n",
       "    </tr>\n",
       "    <tr>\n",
       "      <th>6</th>\n",
       "      <td>Female</td>\n",
       "      <td>24</td>\n",
       "      <td>1</td>\n",
       "      <td>41</td>\n",
       "      <td>1</td>\n",
       "      <td>&lt; 1 Year</td>\n",
       "      <td>No</td>\n",
       "      <td>23923</td>\n",
       "      <td>152</td>\n",
       "      <td>20</td>\n",
       "      <td>0.999870</td>\n",
       "    </tr>\n",
       "    <tr>\n",
       "      <th>7</th>\n",
       "      <td>Male</td>\n",
       "      <td>43</td>\n",
       "      <td>1</td>\n",
       "      <td>19</td>\n",
       "      <td>1</td>\n",
       "      <td>1-2 Year</td>\n",
       "      <td>No</td>\n",
       "      <td>37714</td>\n",
       "      <td>124</td>\n",
       "      <td>299</td>\n",
       "      <td>0.999648</td>\n",
       "    </tr>\n",
       "    <tr>\n",
       "      <th>8</th>\n",
       "      <td>Female</td>\n",
       "      <td>68</td>\n",
       "      <td>1</td>\n",
       "      <td>33</td>\n",
       "      <td>1</td>\n",
       "      <td>1-2 Year</td>\n",
       "      <td>No</td>\n",
       "      <td>2630</td>\n",
       "      <td>138</td>\n",
       "      <td>151</td>\n",
       "      <td>0.999908</td>\n",
       "    </tr>\n",
       "    <tr>\n",
       "      <th>9</th>\n",
       "      <td>Female</td>\n",
       "      <td>38</td>\n",
       "      <td>1</td>\n",
       "      <td>28</td>\n",
       "      <td>0</td>\n",
       "      <td>1-2 Year</td>\n",
       "      <td>Yes</td>\n",
       "      <td>59422</td>\n",
       "      <td>122</td>\n",
       "      <td>173</td>\n",
       "      <td>0.792545</td>\n",
       "    </tr>\n",
       "  </tbody>\n",
       "</table>\n",
       "</div>"
      ],
      "text/plain": [
       "   gender  age  driving_license  region_code  previously_insured vehicle_age  \\\n",
       "0    Male   21                1           36                   0    < 1 Year   \n",
       "1    Male   23                1            3                   1    < 1 Year   \n",
       "2    Male   67                1           28                   0    1-2 Year   \n",
       "3    Male   41                1            8                   1    1-2 Year   \n",
       "4    Male   44                1            6                   0    1-2 Year   \n",
       "5    Male   54                1           28                   0    1-2 Year   \n",
       "6  Female   24                1           41                   1    < 1 Year   \n",
       "7    Male   43                1           19                   1    1-2 Year   \n",
       "8  Female   68                1           33                   1    1-2 Year   \n",
       "9  Female   38                1           28                   0    1-2 Year   \n",
       "\n",
       "  vehicle_damage  annual_premium  policy_sales_channel  vintage  prediction  \n",
       "0             No           40371                   152       48    0.992662  \n",
       "1             No           29535                   152      198    0.999629  \n",
       "2            Yes           30569                    26      283    0.916689  \n",
       "3             No           47916                   124       92    0.999717  \n",
       "4            Yes            2630                   124       18    0.768253  \n",
       "5            Yes           39127                    26       31    0.387894  \n",
       "6             No           23923                   152       20    0.999870  \n",
       "7             No           37714                   124      299    0.999648  \n",
       "8             No            2630                   138      151    0.999908  \n",
       "9            Yes           59422                   122      173    0.792545  "
      ]
     },
     "execution_count": 4,
     "metadata": {},
     "output_type": "execute_result"
    }
   ],
   "source": [
    "data = json.dumps(df_raw.sample(10).drop('response', axis = 1).to_dict( orient='records' ))\n",
    "\n",
    "# API Call\n",
    "# url = 'http://127.0.0.1:8000/predict/'\n",
    "url = 'https://health-insurance-api-oanp.onrender.com/predict'\n",
    "header = {'Content-type': 'application/json' }\n",
    "\n",
    "r = requests.post( url, data=data, headers=header )\n",
    "print( f'[Info] Status Code {r.status_code}' )\n",
    "\n",
    "pd.DataFrame(json.loads(r.json()))"
   ]
  },
  {
   "cell_type": "code",
   "execution_count": null,
   "id": "efc5013a",
   "metadata": {
    "ExecuteTime": {
     "start_time": "2023-05-02T09:53:22.624Z"
    }
   },
   "outputs": [],
   "source": [
    "pd.DataFrame(json.loads(r.json()))"
   ]
  }
 ],
 "metadata": {
  "kernelspec": {
   "display_name": "Python 3 (ipykernel)",
   "language": "python",
   "name": "python3"
  },
  "language_info": {
   "codemirror_mode": {
    "name": "ipython",
    "version": 3
   },
   "file_extension": ".py",
   "mimetype": "text/x-python",
   "name": "python",
   "nbconvert_exporter": "python",
   "pygments_lexer": "ipython3",
   "version": "3.9.7"
  },
  "toc": {
   "base_numbering": 1,
   "nav_menu": {},
   "number_sections": true,
   "sideBar": true,
   "skip_h1_title": false,
   "title_cell": "Table of Contents",
   "title_sidebar": "Contents",
   "toc_cell": false,
   "toc_position": {},
   "toc_section_display": true,
   "toc_window_display": false
  },
  "varInspector": {
   "cols": {
    "lenName": 16,
    "lenType": 16,
    "lenVar": 40
   },
   "kernels_config": {
    "python": {
     "delete_cmd_postfix": "",
     "delete_cmd_prefix": "del ",
     "library": "var_list.py",
     "varRefreshCmd": "print(var_dic_list())"
    },
    "r": {
     "delete_cmd_postfix": ") ",
     "delete_cmd_prefix": "rm(",
     "library": "var_list.r",
     "varRefreshCmd": "cat(var_dic_list()) "
    }
   },
   "types_to_exclude": [
    "module",
    "function",
    "builtin_function_or_method",
    "instance",
    "_Feature"
   ],
   "window_display": false
  }
 },
 "nbformat": 4,
 "nbformat_minor": 5
}
